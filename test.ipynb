{
 "cells": [
  {
   "cell_type": "code",
   "execution_count": 6,
   "metadata": {},
   "outputs": [
    {
     "name": "stdout",
     "output_type": "stream",
     "text": [
      "Defaulting to user installation because normal site-packages is not writeable\n",
      "Requirement already satisfied: pip in c:\\program files\\python311\\lib\\site-packages (22.3.1)\n",
      "Collecting pip\n",
      "  Downloading pip-23.0.1-py3-none-any.whl (2.1 MB)\n",
      "     ---------------------------------------- 2.1/2.1 MB 1.3 MB/s eta 0:00:00\n",
      "Installing collected packages: pip\n",
      "Successfully installed pip-23.0.1\n"
     ]
    }
   ],
   "source": [
    "!python.exe -m pip install --upgrade pip\n",
    "# conn = sqlite3.connect(\"data.sqlite\")\n"
   ]
  },
  {
   "cell_type": "code",
   "execution_count": 1,
   "metadata": {},
   "outputs": [
    {
     "ename": "NameError",
     "evalue": "name 'create_engine' is not defined",
     "output_type": "error",
     "traceback": [
      "\u001b[1;31m---------------------------------------------------------------------------\u001b[0m",
      "\u001b[1;31mNameError\u001b[0m                                 Traceback (most recent call last)",
      "Cell \u001b[1;32mIn[1], line 4\u001b[0m\n\u001b[0;32m      2\u001b[0m conn\u001b[39m=\u001b[39m sqlite3\u001b[39m.\u001b[39mconnect(\u001b[39m'\u001b[39m\u001b[39mdata.sqlite\u001b[39m\u001b[39m'\u001b[39m)\n\u001b[0;32m      3\u001b[0m curr \u001b[39m=\u001b[39m conn\u001b[39m.\u001b[39mcursor()\n\u001b[1;32m----> 4\u001b[0m engine \u001b[39m=\u001b[39m create_engine(\u001b[39m\"\u001b[39m\u001b[39msqlite:///data.sqlite\u001b[39m\u001b[39m\"\u001b[39m, echo\u001b[39m=\u001b[39m\u001b[39mFalse\u001b[39;00m)\n",
      "\u001b[1;31mNameError\u001b[0m: name 'create_engine' is not defined"
     ]
    }
   ],
   "source": [
    "import sqlite3\n",
    "conn= sqlite3.connect('data.sqlite')\n",
    "curr = conn.cursor()\n",
    "engine = create_engine(\"sqlite:///data.sqlite\", echo=False)"
   ]
  },
  {
   "cell_type": "code",
   "execution_count": 6,
   "metadata": {},
   "outputs": [
    {
     "data": {
      "text/plain": [
       "<sqlite3.Cursor at 0x24976a8f3c0>"
      ]
     },
     "execution_count": 6,
     "metadata": {},
     "output_type": "execute_result"
    }
   ],
   "source": [
    "curr.execute(\"SELECT * FROM FIRES LIMIT 10\")"
   ]
  },
  {
   "cell_type": "code",
   "execution_count": null,
   "metadata": {},
   "outputs": [],
   "source": []
  },
  {
   "cell_type": "code",
   "execution_count": 14,
   "metadata": {},
   "outputs": [
    {
     "ename": "TypeError",
     "evalue": "'Index' object is not callable",
     "output_type": "error",
     "traceback": [
      "\u001b[1;31m---------------------------------------------------------------------------\u001b[0m",
      "\u001b[1;31mTypeError\u001b[0m                                 Traceback (most recent call last)",
      "Cell \u001b[1;32mIn[14], line 2\u001b[0m\n\u001b[0;32m      1\u001b[0m \u001b[39mimport\u001b[39;00m \u001b[39mpandas\u001b[39;00m \u001b[39mas\u001b[39;00m \u001b[39mpd\u001b[39;00m\n\u001b[1;32m----> 2\u001b[0m df \u001b[39m=\u001b[39m pd\u001b[39m.\u001b[39;49mread_sql_query(\u001b[39m\"\u001b[39;49m\u001b[39mSELECT STATE FROM Fires;\u001b[39;49m\u001b[39m\"\u001b[39;49m, conn)\u001b[39m.\u001b[39;49mcolumns()\n",
      "\u001b[1;31mTypeError\u001b[0m: 'Index' object is not callable"
     ]
    }
   ],
   "source": [
    "import pandas as pd\n",
    "df = pd.read_sql_query(\"SELECT STATE FROM Fires;\", conn)\n"
   ]
  },
  {
   "cell_type": "code",
   "execution_count": 13,
   "metadata": {},
   "outputs": [
    {
     "data": {
      "text/plain": [
       "Index(['STATE'], dtype='object')"
      ]
     },
     "execution_count": 13,
     "metadata": {},
     "output_type": "execute_result"
    }
   ],
   "source": [
    "df"
   ]
  },
  {
   "cell_type": "code",
   "execution_count": 3,
   "metadata": {},
   "outputs": [],
   "source": [
    "pd.set_option('display.max_columns', None)"
   ]
  },
  {
   "cell_type": "code",
   "execution_count": 4,
   "metadata": {},
   "outputs": [
    {
     "data": {
      "text/html": [
       "<div>\n",
       "<style scoped>\n",
       "    .dataframe tbody tr th:only-of-type {\n",
       "        vertical-align: middle;\n",
       "    }\n",
       "\n",
       "    .dataframe tbody tr th {\n",
       "        vertical-align: top;\n",
       "    }\n",
       "\n",
       "    .dataframe thead th {\n",
       "        text-align: right;\n",
       "    }\n",
       "</style>\n",
       "<table border=\"1\" class=\"dataframe\">\n",
       "  <thead>\n",
       "    <tr style=\"text-align: right;\">\n",
       "      <th></th>\n",
       "      <th>NWCG_GENERAL_CAUSE</th>\n",
       "      <th>count</th>\n",
       "    </tr>\n",
       "  </thead>\n",
       "  <tbody>\n",
       "    <tr>\n",
       "      <th>0</th>\n",
       "      <td>Natural</td>\n",
       "      <td>5089</td>\n",
       "    </tr>\n",
       "    <tr>\n",
       "      <th>1</th>\n",
       "      <td>Missing data/not specified/undetermined</td>\n",
       "      <td>2652</td>\n",
       "    </tr>\n",
       "    <tr>\n",
       "      <th>2</th>\n",
       "      <td>Debris and open burning</td>\n",
       "      <td>2585</td>\n",
       "    </tr>\n",
       "    <tr>\n",
       "      <th>3</th>\n",
       "      <td>Recreation and ceremony</td>\n",
       "      <td>1880</td>\n",
       "    </tr>\n",
       "    <tr>\n",
       "      <th>4</th>\n",
       "      <td>Misuse of fire by a minor</td>\n",
       "      <td>567</td>\n",
       "    </tr>\n",
       "    <tr>\n",
       "      <th>5</th>\n",
       "      <td>Power generation/transmission/distribution</td>\n",
       "      <td>465</td>\n",
       "    </tr>\n",
       "    <tr>\n",
       "      <th>6</th>\n",
       "      <td>Equipment and vehicle use</td>\n",
       "      <td>464</td>\n",
       "    </tr>\n",
       "    <tr>\n",
       "      <th>7</th>\n",
       "      <td>Other causes</td>\n",
       "      <td>428</td>\n",
       "    </tr>\n",
       "    <tr>\n",
       "      <th>8</th>\n",
       "      <td>Arson/incendiarism</td>\n",
       "      <td>382</td>\n",
       "    </tr>\n",
       "    <tr>\n",
       "      <th>9</th>\n",
       "      <td>Smoking</td>\n",
       "      <td>273</td>\n",
       "    </tr>\n",
       "  </tbody>\n",
       "</table>\n",
       "</div>"
      ],
      "text/plain": [
       "                           NWCG_GENERAL_CAUSE  count\n",
       "0                                     Natural   5089\n",
       "1     Missing data/not specified/undetermined   2652\n",
       "2                     Debris and open burning   2585\n",
       "3                     Recreation and ceremony   1880\n",
       "4                   Misuse of fire by a minor    567\n",
       "5  Power generation/transmission/distribution    465\n",
       "6                   Equipment and vehicle use    464\n",
       "7                                Other causes    428\n",
       "8                          Arson/incendiarism    382\n",
       "9                                     Smoking    273"
      ]
     },
     "execution_count": 4,
     "metadata": {},
     "output_type": "execute_result"
    }
   ],
   "source": [
    "df = pd.read_sql_query(\"select NWCG_GENERAL_CAUSE, count(NWCG_GENERAL_CAUSE) as count from fires where state = 'AK' group by NWCG_GENERAL_CAUSE order by count(NWCG_GENERAL_CAUSE) DESC LIMIT 10;\", conn)\n",
    "df"
   ]
  },
  {
   "cell_type": "code",
   "execution_count": null,
   "metadata": {},
   "outputs": [],
   "source": []
  },
  {
   "cell_type": "code",
   "execution_count": null,
   "metadata": {},
   "outputs": [],
   "source": [
    "causes = \"select NWCG_GENERAL_CAUSE, count(NWCG_GENERAL_CAUSE) as count from fires where state = 'ak' group by NWCG_GENERAL_CAUSE order by count(NWCG_GENERAL_CAUSE) DESC LIMIT 10\""
   ]
  },
  {
   "cell_type": "code",
   "execution_count": 3,
   "metadata": {},
   "outputs": [],
   "source": [
    "\n",
    "from sqlalchemy import create_engine\n",
    "engine = create_engine('sqlite:///data.sqlite')\n",
    "import pandas as pd"
   ]
  },
  {
   "cell_type": "code",
   "execution_count": 4,
   "metadata": {},
   "outputs": [],
   "source": [
    "connection = engine.connect()\n",
    "\n",
    "# Query for total fires per year US\n",
    "total_years_fire = \"select fire_year, count(state) as state_count from fires where fire_year >= 1996 group by fire_year order by fire_year LIMIT 20\"\n",
    "# United_States_total = pd.read_sql(total_years_fire, connection)\n",
    "United_States_total = pd.read_sql(total_years_fire, connection)\n",
    "# Format the data for Plotly\n",
    "US = {\n",
    "    \"x\": United_States_total[\"FIRE_YEAR\"].values.tolist(),\n",
    "    \"y\": United_States_total[\"state_count\"].values.tolist(),\n",
    "    \"type\": \"'scatter'\"\n",
    "}\n",
    "\n"
   ]
  },
  {
   "cell_type": "code",
   "execution_count": 5,
   "metadata": {},
   "outputs": [
    {
     "data": {
      "text/html": [
       "<div>\n",
       "<style scoped>\n",
       "    .dataframe tbody tr th:only-of-type {\n",
       "        vertical-align: middle;\n",
       "    }\n",
       "\n",
       "    .dataframe tbody tr th {\n",
       "        vertical-align: top;\n",
       "    }\n",
       "\n",
       "    .dataframe thead th {\n",
       "        text-align: right;\n",
       "    }\n",
       "</style>\n",
       "<table border=\"1\" class=\"dataframe\">\n",
       "  <thead>\n",
       "    <tr style=\"text-align: right;\">\n",
       "      <th></th>\n",
       "      <th>FIRE_YEAR</th>\n",
       "      <th>state_count</th>\n",
       "    </tr>\n",
       "  </thead>\n",
       "  <tbody>\n",
       "    <tr>\n",
       "      <th>0</th>\n",
       "      <td>1996</td>\n",
       "      <td>75561</td>\n",
       "    </tr>\n",
       "    <tr>\n",
       "      <th>1</th>\n",
       "      <td>1997</td>\n",
       "      <td>61442</td>\n",
       "    </tr>\n",
       "    <tr>\n",
       "      <th>2</th>\n",
       "      <td>1998</td>\n",
       "      <td>68356</td>\n",
       "    </tr>\n",
       "    <tr>\n",
       "      <th>3</th>\n",
       "      <td>1999</td>\n",
       "      <td>89350</td>\n",
       "    </tr>\n",
       "    <tr>\n",
       "      <th>4</th>\n",
       "      <td>2000</td>\n",
       "      <td>96396</td>\n",
       "    </tr>\n",
       "    <tr>\n",
       "      <th>5</th>\n",
       "      <td>2001</td>\n",
       "      <td>87001</td>\n",
       "    </tr>\n",
       "    <tr>\n",
       "      <th>6</th>\n",
       "      <td>2002</td>\n",
       "      <td>76128</td>\n",
       "    </tr>\n",
       "    <tr>\n",
       "      <th>7</th>\n",
       "      <td>2003</td>\n",
       "      <td>68275</td>\n",
       "    </tr>\n",
       "    <tr>\n",
       "      <th>8</th>\n",
       "      <td>2004</td>\n",
       "      <td>69370</td>\n",
       "    </tr>\n",
       "    <tr>\n",
       "      <th>9</th>\n",
       "      <td>2005</td>\n",
       "      <td>92921</td>\n",
       "    </tr>\n",
       "    <tr>\n",
       "      <th>10</th>\n",
       "      <td>2006</td>\n",
       "      <td>117943</td>\n",
       "    </tr>\n",
       "    <tr>\n",
       "      <th>11</th>\n",
       "      <td>2007</td>\n",
       "      <td>98837</td>\n",
       "    </tr>\n",
       "    <tr>\n",
       "      <th>12</th>\n",
       "      <td>2008</td>\n",
       "      <td>88306</td>\n",
       "    </tr>\n",
       "    <tr>\n",
       "      <th>13</th>\n",
       "      <td>2009</td>\n",
       "      <td>81492</td>\n",
       "    </tr>\n",
       "    <tr>\n",
       "      <th>14</th>\n",
       "      <td>2010</td>\n",
       "      <td>85579</td>\n",
       "    </tr>\n",
       "    <tr>\n",
       "      <th>15</th>\n",
       "      <td>2011</td>\n",
       "      <td>98903</td>\n",
       "    </tr>\n",
       "    <tr>\n",
       "      <th>16</th>\n",
       "      <td>2012</td>\n",
       "      <td>74258</td>\n",
       "    </tr>\n",
       "    <tr>\n",
       "      <th>17</th>\n",
       "      <td>2013</td>\n",
       "      <td>66434</td>\n",
       "    </tr>\n",
       "    <tr>\n",
       "      <th>18</th>\n",
       "      <td>2014</td>\n",
       "      <td>70480</td>\n",
       "    </tr>\n",
       "    <tr>\n",
       "      <th>19</th>\n",
       "      <td>2015</td>\n",
       "      <td>77275</td>\n",
       "    </tr>\n",
       "  </tbody>\n",
       "</table>\n",
       "</div>"
      ],
      "text/plain": [
       "    FIRE_YEAR  state_count\n",
       "0        1996        75561\n",
       "1        1997        61442\n",
       "2        1998        68356\n",
       "3        1999        89350\n",
       "4        2000        96396\n",
       "5        2001        87001\n",
       "6        2002        76128\n",
       "7        2003        68275\n",
       "8        2004        69370\n",
       "9        2005        92921\n",
       "10       2006       117943\n",
       "11       2007        98837\n",
       "12       2008        88306\n",
       "13       2009        81492\n",
       "14       2010        85579\n",
       "15       2011        98903\n",
       "16       2012        74258\n",
       "17       2013        66434\n",
       "18       2014        70480\n",
       "19       2015        77275"
      ]
     },
     "execution_count": 5,
     "metadata": {},
     "output_type": "execute_result"
    }
   ],
   "source": [
    "United_States_total"
   ]
  },
  {
   "cell_type": "code",
   "execution_count": 10,
   "metadata": {},
   "outputs": [
    {
     "name": "stdout",
     "output_type": "stream",
     "text": [
      "(1, \"b'\\\\x00\\\\x01\\\\xad\\\\x10\\\\x00\\\\x00\\\\xc8\\\\xce\\\\n[_@^\\\\xc0\\\\xe8C|l\\\\xba\\\\x04D@\\\\xc8\\\\xce\\\\n[_@^\\\\xc0\\\\xe8C|l\\\\xba\\\\x04D@|\\\\x01\\\\x00\\\\x00\\\\x00\\\\xc8\\\\xce\\\\n[_@^\\\\xc0\\\\xe8C|l\\\\xba\\\\x04D@\\\\xfe'\", 1, 'FS-1418826', 'FED', 'FS-FIRESTAT', 'FS', 'USCAPNF', 'Plumas National Forest', '0511', 'Plumas National Forest', '1', 'PNF-47', 'BJ8K', 'FOUNTAIN', '', '', '', '', '', 2005, '2/2/2005', 33, '1300', 'Human', 'Power generation/transmission/distribution', '', '2/2/2005', '33', '1730', 0.1, 'A', 40.03694444, -121.00583333, 'USFS', 'CA', '63', '06063', 'Plumas County')\n",
      "(2, \"b'\\\\x00\\\\x01\\\\xad\\\\x10\\\\x00\\\\x00\\\\xc8\\\\xe594\\\\xe2\\\\x19^\\\\xc0\\\\xa0\\\\xe4\\\\xc51nwC@\\\\xc8\\\\xe594\\\\xe2\\\\x19^\\\\xc0\\\\xa0\\\\xe4\\\\xc51nwC@|\\\\x01\\\\x00\\\\x00\\\\x00\\\\xc8\\\\xe594\\\\xe2\\\\x19^\\\\xc0\\\\xa0\\\\xe4\\\\xc51nwC@\\\\xfe'\", 2, 'FS-1418827', 'FED', 'FS-FIRESTAT', 'FS', 'USCAENF', 'Eldorado National Forest', '0503', 'Eldorado National Forest', '13', '13', 'AAC0', 'PIGEON', '', '', '', '', '', 2004, '5/12/2004', 133, '0845', 'Natural', 'Natural', '', '5/12/2004', '133', '1530', 0.25, 'A', 38.93305556, -120.40444444, 'USFS', 'CA', '61', '06061', 'Placer County')\n",
      "(3, \"b'\\\\x00\\\\x01\\\\xad\\\\x10\\\\x00\\\\x00x{\\\\xac \\\\x13/^\\\\xc0@\\\\xf2\\\\x03\\\\x01\\\\xf9}C@x{\\\\xac \\\\x13/^\\\\xc0@\\\\xf2\\\\x03\\\\x01\\\\xf9}C@|\\\\x01\\\\x00\\\\x00\\\\x00x{\\\\xac \\\\x13/^\\\\xc0@\\\\xf2\\\\x03\\\\x01\\\\xf9}C@\\\\xfe'\", 3, 'FS-1418835', 'FED', 'FS-FIRESTAT', 'FS', 'USCAENF', 'Eldorado National Forest', '0503', 'Eldorado National Forest', '27', '021', 'A32W', 'SLACK', '', '', '', '', '', 2004, '5/31/2004', 152, '1921', 'Human', 'Debris and open burning', '', '5/31/2004', '152', '2024', 0.1, 'A', 38.98416667, -120.73555556, 'STATE OR PRIVATE', 'CA', '17', '06017', 'El Dorado County')\n",
      "(4, \"b'\\\\x00\\\\x01\\\\xad\\\\x10\\\\x00\\\\x00\\\\xc8\\\\x13u\\\\xd7s\\\\xfa]\\\\xc0\\\\xf8\\\\xdbg\\\\x9a\\\\x92GC@\\\\xc8\\\\x13u\\\\xd7s\\\\xfa]\\\\xc0\\\\xf8\\\\xdbg\\\\x9a\\\\x92GC@|\\\\x01\\\\x00\\\\x00\\\\x00\\\\xc8\\\\x13u\\\\xd7s\\\\xfa]\\\\xc0\\\\xf8\\\\xdbg\\\\x9a\\\\x92GC@\\\\xfe'\", 4, 'FS-1418845', 'FED', 'FS-FIRESTAT', 'FS', 'USCAENF', 'Eldorado National Forest', '0503', 'Eldorado National Forest', '43', '6', '', 'DEER', '', '', '', '', '', 2004, '6/28/2004', 180, '1600', 'Natural', 'Natural', '', '7/3/2004', '185', '1400', 0.1, 'A', 38.55916667, -119.91333333, 'USFS', 'CA', '3', '06003', 'Alpine County')\n",
      "(5, \"b'\\\\x00\\\\x01\\\\xad\\\\x10\\\\x00\\\\x00\\\\xd0\\\\x11y\\\\xf8\\\\xb6\\\\xfb]\\\\xc0\\\\xb8\\\\x01j\\\\x9a\\\\x92GC@\\\\xd0\\\\x11y\\\\xf8\\\\xb6\\\\xfb]\\\\xc0\\\\xb8\\\\x01j\\\\x9a\\\\x92GC@|\\\\x01\\\\x00\\\\x00\\\\x00\\\\xd0\\\\x11y\\\\xf8\\\\xb6\\\\xfb]\\\\xc0\\\\xb8\\\\x01j\\\\x9a\\\\x92GC@\\\\xfe'\", 5, 'FS-1418847', 'FED', 'FS-FIRESTAT', 'FS', 'USCAENF', 'Eldorado National Forest', '0503', 'Eldorado National Forest', '44', '7', '', 'STEVENOT', '', '', '', '', '', 2004, '6/28/2004', 180, '1600', 'Natural', 'Natural', '', '7/3/2004', '185', '1200', 0.1, 'A', 38.55916667, -119.93305556, 'USFS', 'CA', '3', '06003', 'Alpine County')\n",
      "(6, \"b'\\\\x00\\\\x01\\\\xad\\\\x10\\\\x00\\\\x00\\\\x04\\\\xb1$Z\\\\xa1\\\\x06^\\\\xc08\\\\x0c\\\\xbb\\\\x9cPQC@\\\\x04\\\\xb1$Z\\\\xa1\\\\x06^\\\\xc08\\\\x0c\\\\xbb\\\\x9cPQC@|\\\\x01\\\\x00\\\\x00\\\\x00\\\\x04\\\\xb1$Z\\\\xa1\\\\x06^\\\\xc08\\\\x0c\\\\xbb\\\\x9cPQC@\\\\xfe'\", 6, 'FS-1418849', 'FED', 'FS-FIRESTAT', 'FS', 'USCAENF', 'Eldorado National Forest', '0503', 'Eldorado National Forest', '54', '8', '', 'HIDDEN', '', '', '', '', '', 2004, '6/30/2004', 182, '1800', 'Natural', 'Natural', '', '7/1/2004', '183', '1600', 0.1, 'A', 38.63527778, -120.10361111, 'USFS', 'CA', '5', '06005', 'Amador County')\n",
      "(7, 'b\\'\\\\x00\\\\x01\\\\xad\\\\x10\\\\x00\\\\x00\\\\xf0\\\\xda0\\\\x00\\\\xd0\\\\t^\\\\xc0\\\\x00\\\\xf6\\\\xee\"\\\\x1bXC@\\\\xf0\\\\xda0\\\\x00\\\\xd0\\\\t^\\\\xc0\\\\x00\\\\xf6\\\\xee\"\\\\x1bXC@|\\\\x01\\\\x00\\\\x00\\\\x00\\\\xf0\\\\xda0\\\\x00\\\\xd0\\\\t^\\\\xc0\\\\x00\\\\xf6\\\\xee\"\\\\x1bXC@\\\\xfe\\'', 7, 'FS-1418851', 'FED', 'FS-FIRESTAT', 'FS', 'USCAENF', 'Eldorado National Forest', '0503', 'Eldorado National Forest', '58', '9', '', 'FORK', '', '', '', '', '', 2004, '7/1/2004', 183, '1800', 'Natural', 'Natural', '', '7/2/2004', '184', '1400', 0.1, 'A', 38.68833333, -120.15333333, 'USFS', 'CA', '17', '06017', 'El Dorado County')\n",
      "(8, \"b'\\\\x00\\\\x01\\\\xad\\\\x10\\\\x00\\\\x00\\\\xace\\\\xb3\\\\x9c\\\\xc4\\\\x9b^\\\\xc00\\\\xde\\\\x11\\\\x13\\\\xe9{D@\\\\xace\\\\xb3\\\\x9c\\\\xc4\\\\x9b^\\\\xc00\\\\xde\\\\x11\\\\x13\\\\xe9{D@|\\\\x01\\\\x00\\\\x00\\\\x00\\\\xace\\\\xb3\\\\x9c\\\\xc4\\\\x9b^\\\\xc00\\\\xde\\\\x11\\\\x13\\\\xe9{D@\\\\xfe'\", 8, 'FS-1418854', 'FED', 'FS-FIRESTAT', 'FS', 'USCASHF', 'Shasta-Trinity National Forest', '0514', 'Shasta-Trinity National Forest', '3', '02', 'BK5X', 'SLATE', '', '', '', '', '', 2005, '3/8/2005', 67, '1300', 'Human', 'Debris and open burning', '', '3/8/2005', '67', '1600', 0.8, 'B', 40.96805556, -122.43388889, 'STATE OR PRIVATE', 'CA', '', '', '')\n",
      "(9, \"b'\\\\x00\\\\x01\\\\xad\\\\x10\\\\x00\\\\x00,\\\\x89\\\\xd7\\\\xe8!\\\\x92^\\\\xc0\\\\xc0h6\\\\xcc\\\\xe6\\\\x9dD@,\\\\x89\\\\xd7\\\\xe8!\\\\x92^\\\\xc0\\\\xc0h6\\\\xcc\\\\xe6\\\\x9dD@|\\\\x01\\\\x00\\\\x00\\\\x00,\\\\x89\\\\xd7\\\\xe8!\\\\x92^\\\\xc0\\\\xc0h6\\\\xcc\\\\xe6\\\\x9dD@\\\\xfe'\", 9, 'FS-1418856', 'FED', 'FS-FIRESTAT', 'FS', 'USCASHF', 'Shasta-Trinity National Forest', '0514', 'Shasta-Trinity National Forest', '5', '03', 'BLPQ', 'SHASTA', '', '', '', '', '', 2005, '3/15/2005', 74, '1200', 'Human', 'Debris and open burning', '', '3/15/2005', '74', '1700', 1.0, 'B', 41.23361111, -122.28333333, 'STATE OR PRIVATE', 'CA', '', '', '')\n",
      "(10, \"b'\\\\x00\\\\x01\\\\xad\\\\x10\\\\x00\\\\x00\\\\xfc\\\\x12\\\\x07\\\\xbc\\\\x8b\\\\t^\\\\xc0\\\\xc0\\\\x02\\\\xea\\\\x9d/FC@\\\\xfc\\\\x12\\\\x07\\\\xbc\\\\x8b\\\\t^\\\\xc0\\\\xc0\\\\x02\\\\xea\\\\x9d/FC@|\\\\x01\\\\x00\\\\x00\\\\x00\\\\xfc\\\\x12\\\\x07\\\\xbc\\\\x8b\\\\t^\\\\xc0\\\\xc0\\\\x02\\\\xea\\\\x9d/FC@\\\\xfe'\", 10, 'FS-1418859', 'FED', 'FS-FIRESTAT', 'FS', 'USCAENF', 'Eldorado National Forest', '0503', 'Eldorado National Forest', '61', '10', '', 'TANGLEFOOT', '', '', '', '', '', 2004, '7/1/2004', 183, '1800', 'Natural', 'Natural', '', '7/2/2004', '184', '1800', 0.1, 'A', 38.54833333, -120.14916667, 'USFS', 'CA', '5', '06005', 'Amador County')\n"
     ]
    }
   ],
   "source": [
    "for r in rows:\n",
    "    print(r)"
   ]
  }
 ],
 "metadata": {
  "kernelspec": {
   "display_name": "Python 3",
   "language": "python",
   "name": "python3"
  },
  "language_info": {
   "codemirror_mode": {
    "name": "ipython",
    "version": 3
   },
   "file_extension": ".py",
   "mimetype": "text/x-python",
   "name": "python",
   "nbconvert_exporter": "python",
   "pygments_lexer": "ipython3",
   "version": "3.9.6"
  },
  "orig_nbformat": 4
 },
 "nbformat": 4,
 "nbformat_minor": 2
}
