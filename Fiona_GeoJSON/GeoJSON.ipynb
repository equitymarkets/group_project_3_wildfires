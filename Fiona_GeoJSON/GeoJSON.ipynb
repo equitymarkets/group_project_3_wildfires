{
 "cells": [
  {
   "cell_type": "code",
   "execution_count": 1,
   "id": "70139d8c",
   "metadata": {},
   "outputs": [],
   "source": [
    "# Python SQL toolkit \n",
    "import pandas as pd\n",
    "import json\n",
    "from sqlalchemy import create_engine, func"
   ]
  },
  {
   "cell_type": "code",
   "execution_count": 2,
   "id": "b4243185",
   "metadata": {},
   "outputs": [],
   "source": [
    "# create engine\n",
    "engine = create_engine('sqlite:///data.sqlite')"
   ]
  },
  {
   "cell_type": "code",
   "execution_count": 3,
   "id": "de75f5be",
   "metadata": {},
   "outputs": [],
   "source": [
    "# Query all data from table\n",
    "fire_data = pd.read_sql_query('SELECT * FROM \"Fires\"', con=engine)"
   ]
  },
  {
   "cell_type": "code",
   "execution_count": 4,
   "id": "f4717875",
   "metadata": {},
   "outputs": [],
   "source": [
    "# https://notebook.community/captainsafia/nteract/applications/desktop/example-notebooks/pandas-to-geojson\n",
    "def df_to_geojson(df, properties, lat='LATITUDE', lon='LONGITUDE'):\n",
    "    # create a new python dict to contain our geojson data, using geojson format\n",
    "    gjs = {'type':'FeatureCollection', 'features':[]}\n",
    "\n",
    "    # loop through each row in the dataframe and convert each row to geojson format\n",
    "    for index, row in fire_data.iterrows():\n",
    "        # create a feature template to fill in\n",
    "        feature = {'type':'Feature',\n",
    "                   'properties':{},\n",
    "                   'geometry':{'type':'Point',\n",
    "                               'coordinates':[]}}\n",
    "\n",
    "        # fill in the coordinates\n",
    "        feature['geometry']['coordinates'] = [row[lon],row[lat]]\n",
    "\n",
    "        # for each column, get the value and add it as a new feature property\n",
    "        for prop in properties:\n",
    "            feature['properties'][prop] = row[prop]\n",
    "        \n",
    "        # add this feature (aka, converted dataframe row) to the list of features inside our dict\n",
    "        gjs['features'].append(feature)\n",
    "    \n",
    "    return gjs"
   ]
  },
  {
   "cell_type": "code",
   "execution_count": 5,
   "id": "35c9af67",
   "metadata": {},
   "outputs": [],
   "source": [
    "# Define the properties of each feature, excluding LATITUDE and LONGITUDE as that is in the geometry section\n",
    "fire_props = fire_data.loc[:, ~fire_data.columns.isin(['LATITUDE', 'LONGITUDE'])]\n",
    "cols = fire_props.columns.values.tolist()\n",
    "\n",
    "\n",
    "geojson = df_to_geojson(fire_data, cols)"
   ]
  },
  {
   "cell_type": "code",
   "execution_count": 7,
   "id": "40424907",
   "metadata": {},
   "outputs": [],
   "source": [
    "output_file=open(\"output/Fires.geojson\", \"w\", encoding=\"utf-8\")\n",
    "json.dump(geojson, output_file)\n",
    "\n",
    "\n",
    "output_file.close()"
   ]
  }
 ],
 "metadata": {
  "kernelspec": {
   "display_name": "Python 3 (ipykernel)",
   "language": "python",
   "name": "python3"
  },
  "language_info": {
   "codemirror_mode": {
    "name": "ipython",
    "version": 3
   },
   "file_extension": ".py",
   "mimetype": "text/x-python",
   "name": "python",
   "nbconvert_exporter": "python",
   "pygments_lexer": "ipython3",
   "version": "3.11.2"
  }
 },
 "nbformat": 4,
 "nbformat_minor": 5
}
